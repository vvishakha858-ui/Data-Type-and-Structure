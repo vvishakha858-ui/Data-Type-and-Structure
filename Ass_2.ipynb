{
  "nbformat": 4,
  "nbformat_minor": 0,
  "metadata": {
    "colab": {
      "provenance": []
    },
    "kernelspec": {
      "name": "python3",
      "display_name": "Python 3"
    },
    "language_info": {
      "name": "python"
    }
  },
  "cells": [
    {
      "cell_type": "markdown",
      "source": [
        "# Data Types and Structures"
      ],
      "metadata": {
        "id": "iUqVT3fQab0o"
      }
    },
    {
      "cell_type": "markdown",
      "source": [
        "1 - What are data structures, and why are they important ?\n",
        "\n",
        "  -Data Structures are ways of Organizing ,storing and managing data in a computer so that it can be used efficiently.\n",
        "     Importance of Data Structures:\n",
        "\n",
        "\n",
        "*   Efficient Data Access : They allow quick searching,insertion,deletion and updating of data.\n",
        "*   Better Memory Management : They help in using memory in an organized and optimized way.\n",
        "\n",
        "*   Real-World Problem Solving : Many real-world applications like databases,operating systems, compilers,and networks depend on them.\n",
        "\n",
        "*   Scalability : Data Structures make programs capable of handling large and complex data without becoming slow.\n",
        "\n",
        "*  Reusability : Once implemented , data structures can be reused in different programs and projects.\n",
        "\n",
        "\n",
        "\n",
        "\n",
        "\n",
        "\n",
        "\n"
      ],
      "metadata": {
        "id": "4dlXmo6hfM46"
      }
    },
    {
      "cell_type": "markdown",
      "source": [
        "2 - Explain the difference between mutable and immutable data types with examples?\n",
        "      \n",
        "  - Mutable:\n",
        "      Objects that can be changed after they are created and no new memory location is created. Ex: list,dict,set\n",
        "    \n",
        "   Example:\n",
        "      list = [1,2,3]\n",
        "      list[0] = 10\n",
        "      print(list)  #output: [10,2,3]\n",
        "\n",
        "  -Immutable:\n",
        "      Object that can not be changed after they are created and creation of new memory location at any changes. ex: int,float,str,tuple\n",
        "    \n",
        "   Example:\n",
        "      tuple = (1,2,3)\n",
        "      tuple[0] = 10\n",
        "      print(tuple)   #output this will raise a typeerror"
      ],
      "metadata": {
        "id": "0z7OxnHZjAQ7"
      }
    },
    {
      "cell_type": "markdown",
      "source": [
        "3 -  What are the main differences between lists and tuples in Python?\n",
        "\n",
        "  -Difference between list and tuple:\n",
        "\n",
        "\n",
        "*   Mutability : Lists are mutable whereas Tuples are immutable.\n",
        "*   Syntax: lists use square brackets [ ],whereas Tuples use parentheses ( )\n",
        "             \n",
        "\n",
        "*   Performance : Tuplea are faster in speed than list.\n",
        "\n",
        "\n",
        "*   Use Case : list - used when data may need modification, Tuples - used when           data should remain constant.\n",
        "\n",
        "\n",
        "\n",
        "\n",
        "\n",
        "\n",
        "\n"
      ],
      "metadata": {
        "id": "Ym1jv8KsmVws"
      }
    },
    {
      "cell_type": "markdown",
      "source": [
        "4-  Describe how dictionaries store data.\n",
        "\n",
        "  A Dictionary is a built-in data type in python that stores data in key-value pairs. each key is unique and is used of access its corresponding value.\n",
        "  \n",
        "  Dictionaries store data:\n",
        "\n",
        "\n",
        "*  Each key is linked to avalue.\n",
        "\n",
        "\n",
        "*  Keys are converted into a hash value.\n",
        "\n",
        "\n",
        "*   data is not store in a sequeance like list but in an internal hash table structure.\n",
        "\n",
        "*   It allows for quick access, update and deletion of data using keys.\n",
        "\n",
        "\n",
        "\n"
      ],
      "metadata": {
        "id": "glGQYIkUP8Wk"
      }
    },
    {
      "cell_type": "markdown",
      "source": [
        "5- Why might you use a set instead of a list in Python?\n",
        "    \n",
        "   - You might use a set instead of a list when you need to store only unique elements and don’t care about order.  Sets provide faster membership checking compared to lists and support useful mathematical operations like union, intersection, and difference.  This makes them efficient for tasks involving distinct values and quick lookups.\n",
        "    "
      ],
      "metadata": {
        "id": "b5hucUwJUaZv"
      }
    },
    {
      "cell_type": "markdown",
      "source": [
        "6- What is a string in Python, and how is it different from a list?\n",
        "\n",
        "   -String : In Python, a String is a sequence of characters used to represent text. It can include letters, numbers, symbols, and spaces, and is written inside single quotes ('), double quotes (\"), or triple quotes (''' or \"\"\").\n",
        "  \n",
        "   String different from list:\n",
        "\n",
        "\n",
        "   1. Data Type\n",
        "\n",
        "       String → A sequence of characters (text).\n",
        "\n",
        "       List → A collection of elements (can be numbers, strings, or other objects).\n",
        "\n",
        "\n",
        "\n",
        "2. Mutability\n",
        "\n",
        "        String → Immutable (cannot be changed once created).\n",
        "\n",
        "        List → Mutable (can be modified, elements can be added, removed, or changed).\n",
        "\n",
        "\n",
        "\n",
        "3. Syntax\n",
        "      str → Written inside quotes (\"Hello\" or 'Hello').\n",
        "\n",
        "      List → Written inside square brackets ([1, 2, 3]).\n",
        "\n",
        "\n",
        "\n",
        "4. Element Type\n",
        "\n",
        "      String → Only characters.\n",
        "\n",
        "      List → Can contain mixed data types (integers, floats, strings, lists, etc.).\n",
        "\n",
        "\n",
        "\n",
        "5. Operations\n",
        "\n",
        "      String → Supports string methods like .upper(), .lower(), .replace(), concatenation (+), and slicing.\n",
        "\n",
        "       List → Supports methods like .append(), .remove(), .sort(), .extend(), and slicing.\n",
        "\n",
        "6. Use Case\n",
        "\n",
        "     String → Used for handling and processing textual data.\n",
        "\n",
        "     List → Used for handling collections of related data.\n",
        "\n"
      ],
      "metadata": {
        "id": "FSe8BnajU7xA"
      }
    },
    {
      "cell_type": "markdown",
      "source": [
        "7 - How do tuples ensure data integrity in Python?\n",
        "\n",
        "   - Tuples ensure data integrity because they are immutable, meaning their elements cannot be changed once created. This prevents accidental modifications, making tuples reliable for storing constant or fixed data such as dates, coordinates, or configuration values."
      ],
      "metadata": {
        "id": "5AG_FhmQXn0y"
      }
    },
    {
      "cell_type": "markdown",
      "source": [
        "8 - What is a hash table, and how does it relate to dictionaries in Python?\n",
        "\n",
        "  - A Hash Table is a data structure that stores data in key–value pairs using a hash function to determine where each value is stored. In Python, a Dictionary is implemented using a hash table, where each key is converted into a hash value that maps directly to its associated value, allowing fast lookups, insertions, and deletions."
      ],
      "metadata": {
        "id": "KMGnCePLYdu7"
      }
    },
    {
      "cell_type": "markdown",
      "source": [
        "9 -  Can lists contain different data types in Python?\n",
        "\n",
        "  - Yes, Lists in Python can store heterogeneous data, meaning elements of different types like integers, strings, floats, or even other lists.\n",
        "  \n",
        "  Example:\n",
        "  \n",
        "  my_list = [10, 2,\"vishakha\" , True, 6+7j]\n",
        "  "
      ],
      "metadata": {
        "id": "3VIGYN_TZmKe"
      }
    },
    {
      "cell_type": "markdown",
      "source": [],
      "metadata": {
        "id": "filpfn1ImVay"
      }
    },
    {
      "cell_type": "markdown",
      "source": [
        "10 -  Explain why strings are immutable in Python?\n",
        "\n",
        "   - Strings are immutable in Python because their contents cannot be changed after creation. Any modification, such as concatenation or replacement, creates a new string object instead of altering the original one. This immutability ensures security, consistency, and efficient memory handling, and also allows strings to be safely used as dictionary keys.\n",
        "      "
      ],
      "metadata": {
        "id": "SA4JSuLeayDk"
      }
    },
    {
      "cell_type": "markdown",
      "source": [
        "11 -  What advantages do dictionaries offer over lists for certain tasks?\n",
        "\n",
        "     Dictionaries offer several advantages over Lists:\n",
        "\n",
        "1. Fast Lookup: Accessing values by keys is much faster  than searching through a list.\n",
        "\n",
        "\n",
        "2. Key–Value Mapping: Dictionaries store data as key–value pairs, making retrieval more meaningful and readable.\n",
        "\n",
        "\n",
        "3. Uniqueness of Keys: Each key is unique, which prevents duplicate identifiers.\n",
        "\n",
        "\n",
        "4. Flexibility: Keys can be strings, numbers, or tuples, unlike list indexes which are always numeric.\n",
        "\n",
        "\n",
        "5. Real-World Use: Best for tasks like storing user data, configurations, or word frequencies, where quick access by name/identifier is neede"
      ],
      "metadata": {
        "id": "Hc0SwNhqnc6-"
      }
    },
    {
      "cell_type": "markdown",
      "source": [
        "12 -  Describe a scenario where using a tuple would be preferable over a list.\n",
        "      \n",
        "   - A tuple is preferable when you need to store fixed data that should never change.\n",
        "   \n",
        "   For example:\n",
        "\n",
        "1 -RGB color values: (255, 0, 0) for red.\n",
        "\n",
        "\n",
        "\n",
        "2-Student birthdate: (15, \"August\", 2000) which should remain constant.\n",
        "\n",
        "3-Mathematical constants: (3.14, 2.71) for π and e.\n",
        "\n",
        "\n",
        "Using a tuple ensures the data stays safe and unmodified\n"
      ],
      "metadata": {
        "id": "4AlH09iEod4P"
      }
    },
    {
      "cell_type": "markdown",
      "source": [
        "13 -  How do sets handle duplicate values in Python?\n",
        "\n",
        "  - In Python, sets automatically remove duplicate values. When you add elements to a set, only unique values are stored. If a duplicate is inserted, Python ignores it and keeps just one copy."
      ],
      "metadata": {
        "id": "kBZGEvRcqM-7"
      }
    },
    {
      "cell_type": "markdown",
      "source": [
        "14 -  How does the “in” keyword work differently for lists and dictionaries?\n",
        "\n",
        "        \n",
        "       \n",
        "      -> For Lists:\n",
        "\n",
        "\n",
        "\n",
        "The in keyword checks whether a value/element exists in the list.\n",
        "\n",
        "Example:\n",
        "\n",
        "numbers = [10, 20, 30]\n",
        " print(20 in numbers)    # True\n",
        " print(40 in numbers)    # False\n",
        "\n",
        "   -> For Dictionaries:\n",
        "\n",
        "\n",
        "\n",
        "The in keyword checks only for keys, not values.\n",
        "\n",
        "Example:\n",
        "\n",
        "student = {\"name\": \"Vishakha\", \"age\": 23}\n",
        "print(\"name\" in student)   # True  (key check)\n",
        "print(\"Vishakha\" in student)  # False (value ignored)\n",
        "\n",
        "\n",
        " So, in checks elements in lists, but keys in dictionaries."
      ],
      "metadata": {
        "id": "Bh0zD2m-NwHB"
      }
    },
    {
      "cell_type": "markdown",
      "source": [
        "15 -  Can you modify the elements of a tuple? Explain why or why not?\n",
        "\n",
        "  - No, you cannot modify the element of a tuple.\n",
        "\n",
        "  Why not:\n",
        "\n",
        " 1-Tuples are immutable, so their elements cannot be changed once created.\n",
        "\n",
        " 2-They don’t support item assignment (tuple[0] = value gives an error).\n",
        "\n",
        " 3-Immutability ensures data integrity for fixed data.\n",
        "\n",
        "This also makes tuples hashable, so they can be used as dictionary keys or set elements."
      ],
      "metadata": {
        "id": "vUp3iWFTPtkY"
      }
    },
    {
      "cell_type": "markdown",
      "source": [
        "16-  What is a nested dictionary, and give an example of its use case?\n",
        "\n",
        "   - Nested Dictionary is a dictionary inside another dictionary, where values can themselves be dictionaries. It allows storing hierarchical or structured data in a compact way.\n",
        "\n",
        "\n",
        "  Example:\n",
        "\n",
        "students = {\n",
        "    \"komal\": {\"age\": 25, \"grade\": \"A\"},\n",
        "    \"divya\": {\"age\": 24, \"grade\": \"B\"},\n",
        "}\n",
        "print(students[\"komal\"][\"grade\"])    # Output: A\n",
        "\n",
        "\n",
        "\n",
        "  Use Cases of Nested Dictionary:\n",
        "\n",
        "1. Storing student data (name, age, grades).\n",
        "\n",
        "\n",
        "2. Configuration files where settings have sub-settings.\n",
        "\n",
        "\n",
        "3. JSON-like data (API responses often use nested structures).\n",
        "\n",
        "\n",
        "4. Employee database (ID → details like department, salary)."
      ],
      "metadata": {
        "id": "CGkDOLJzRusn"
      }
    },
    {
      "cell_type": "markdown",
      "source": [
        "17 - Describe the time complexity of accessing elements in a dictionary.\n",
        "\n",
        " - Accessing elements in a Dictionary:-\n",
        "\n",
        "1. Average Case: O(1) – Dictionary uses a hash table, so elements are accessed directly using keys.\n",
        "\n",
        "\n",
        "2. Worst Case: O(n) – In rare cases of hash collisions, multiple keys map to the same location, requiring a sequential search.\n",
        "\n",
        "\n",
        "\n"
      ],
      "metadata": {
        "id": "SgO3PO64T2EW"
      }
    },
    {
      "cell_type": "markdown",
      "source": [
        "18 -  In what situations are lists preferred over dictionaries?\n",
        "\n",
        "   - Lists are preferable when:\n",
        "\n",
        "1. Order Matters → Lists maintain the order of elements, while dictionaries (before Python 3.7) did not guarantee order.\n",
        "\n",
        " numbers = [10, 20, 30, 40]  # Order is preserved\n",
        "\n",
        "\n",
        "2. Index-based Access → If you need to access elements by position (e.g., 1st item, 2nd item), lists are better.\n",
        "\n",
        "  print(numbers[2])  # Output: 30\n",
        "\n",
        "\n",
        "3. Simple Collections → When you only need to store a sequence of values without key-value mapping.\n",
        "\n",
        "\n",
        "4. Memory Efficiency → Lists use less memory compared to dictionaries, making them efficient for small, simple datasets.\n",
        "\n",
        "\n",
        "\n",
        "   Use lists when you care about order, positions, and simple data storage, and use dictionaries when you need key-value mapping for fast lookups."
      ],
      "metadata": {
        "id": "x9RtZLMKZ3p7"
      }
    },
    {
      "cell_type": "markdown",
      "source": [
        "19-  Why are dictionaries considered unordered, and how does that affect data retrieval?\n",
        "\n",
        "- Dictionaries are considered unordered because they do not maintain any sequence for their elements. The key-value pairs are stored in a way optimized for fast access, not in the order they are added. This means the position of items can appear random when iterating over the dictionary.\n",
        "\n",
        "\n",
        "\n",
        "\n",
        " - Being unordered does not affect the ability to retrieve data by key. You can still access any value directly using its key in constant time (O(1)). However, you cannot rely on the order of elements when iterating, so operations that depend on order, like looping through items in the insertion order, need careful handling (or Python 3.7+ dictionaries where insertion order is preserved as an implementation detail).\n",
        "\n"
      ],
      "metadata": {
        "id": "Uuuz3uLKdwXG"
      }
    },
    {
      "cell_type": "markdown",
      "source": [
        "20-  Explain the difference between a list and a dictionary in terms of data retrieval?\n",
        "\n",
        "- In a list, data is retrieved using an index because lists are ordered, so each element has a fixed position.\n",
        "\n",
        " For example:\n",
        "fruits = [\"banana\" ,\"apple\", \"orange\"]\n",
        "print(fruits[1])\n",
        "\n",
        "\n",
        "\n",
        " - In a dictionary, data is retrieved using a key rather than a position. Dictionaries are unordered, so the order of elements doesn’t matter, and accessing a value by its key,\n",
        " example:\n",
        "  person = {\"name\": \"vipin\" , \"age\" : 29}\n",
        "  print(person[\"age\"]\n",
        "\n",
        " like student[\"age\"], is very fast (O(1)), even in large dictionaries. Thus, lists rely on position for retrieval, while dictionaries rely on keys for quick access."
      ],
      "metadata": {
        "id": "WDUpM5nxfmqZ"
      }
    },
    {
      "cell_type": "markdown",
      "source": [
        "# Practical Questions"
      ],
      "metadata": {
        "id": "kTnBtUpHiRjy"
      }
    },
    {
      "cell_type": "code",
      "source": [
        "# 1 - Write a code to create a string with your name and print it\n",
        "\n",
        "name = \"vishakha Gupta\"\n",
        "print(name)"
      ],
      "metadata": {
        "colab": {
          "base_uri": "https://localhost:8080/"
        },
        "id": "FtvIYdTtiWmp",
        "outputId": "503360be-8356-4dad-cf16-a1a9de0c0bf1"
      },
      "execution_count": null,
      "outputs": [
        {
          "output_type": "stream",
          "name": "stdout",
          "text": [
            "vishakha Gupta\n"
          ]
        }
      ]
    },
    {
      "cell_type": "code",
      "source": [
        "# 2-  Write a code to find the length of the string \"Hello World\"\n",
        "\n",
        "str = \"Hello World\"\n",
        "print(len(str))"
      ],
      "metadata": {
        "colab": {
          "base_uri": "https://localhost:8080/"
        },
        "id": "3vHsGND6ixyG",
        "outputId": "b13095d9-8ca5-4ec9-9c4b-504bde251c90"
      },
      "execution_count": null,
      "outputs": [
        {
          "output_type": "stream",
          "name": "stdout",
          "text": [
            "11\n"
          ]
        }
      ]
    },
    {
      "cell_type": "code",
      "source": [
        "# 3 - Write a code to slice the first 3 characters from the string \"Python Programming\".\n",
        "\n",
        "str = \"python programming\"\n",
        "first_three = str[:3]\n",
        "print(first_three)"
      ],
      "metadata": {
        "colab": {
          "base_uri": "https://localhost:8080/"
        },
        "id": "bPO3o5pAjW7_",
        "outputId": "21868f64-834e-4d36-dee3-e7c6ad058641"
      },
      "execution_count": null,
      "outputs": [
        {
          "output_type": "stream",
          "name": "stdout",
          "text": [
            "pyt\n"
          ]
        }
      ]
    },
    {
      "cell_type": "code",
      "source": [
        "# 4 - Write a code to convert the string \"hello\" to uppercase.\n",
        "\n",
        "str = \"hello\"\n",
        "print(str.upper())"
      ],
      "metadata": {
        "colab": {
          "base_uri": "https://localhost:8080/"
        },
        "id": "awTIYtFJlJPL",
        "outputId": "f5684014-8ff0-4a02-c5df-bbffc0562a41"
      },
      "execution_count": null,
      "outputs": [
        {
          "output_type": "stream",
          "name": "stdout",
          "text": [
            "HELLO\n"
          ]
        }
      ]
    },
    {
      "cell_type": "code",
      "source": [
        "# 5 -  Write a code to replace the word \"apple\" with \"orange\" in the string \"I like apple\".\n",
        "\n",
        "str = \"I like apple\"\n",
        "print(str.replace(\"apple\",\"orange\"))"
      ],
      "metadata": {
        "colab": {
          "base_uri": "https://localhost:8080/"
        },
        "id": "plz8p8nRmAeK",
        "outputId": "0edb3536-acfc-4cc7-84a1-4b9b0cc537ee"
      },
      "execution_count": null,
      "outputs": [
        {
          "output_type": "stream",
          "name": "stdout",
          "text": [
            "I like orange\n"
          ]
        }
      ]
    },
    {
      "cell_type": "code",
      "source": [
        "# 6 -  Write a code to create a list with numbers 1 to 5 and print it\n",
        "\n",
        "numbers = [1,2,3,4,5]\n",
        "print(numbers)"
      ],
      "metadata": {
        "colab": {
          "base_uri": "https://localhost:8080/"
        },
        "id": "XKbShYaSHIHl",
        "outputId": "1c8e352b-01ba-4cf2-a156-3b19c1c54f29"
      },
      "execution_count": null,
      "outputs": [
        {
          "output_type": "stream",
          "name": "stdout",
          "text": [
            "[1, 2, 3, 4, 5]\n"
          ]
        }
      ]
    },
    {
      "cell_type": "code",
      "source": [
        "# 7 -  Write a code to append the number 10 to the list [1, 2, 3, 4]\n",
        "\n",
        "number = [1,2,3,4]\n",
        "number.append(10)\n",
        "print(number)"
      ],
      "metadata": {
        "colab": {
          "base_uri": "https://localhost:8080/"
        },
        "id": "nMdHfKnjHqo6",
        "outputId": "504770db-149e-4e23-cbb2-c5fcdbc02676"
      },
      "execution_count": null,
      "outputs": [
        {
          "output_type": "stream",
          "name": "stdout",
          "text": [
            "[1, 2, 3, 4, 10]\n"
          ]
        }
      ]
    },
    {
      "cell_type": "code",
      "source": [
        "# 8 -  Write a code to remove the number 3 from the list [1, 2, 3, 4, 5]\n",
        "\n",
        "number = [1,2,3,4,5]\n",
        "number.remove(3)\n",
        "print(number)"
      ],
      "metadata": {
        "colab": {
          "base_uri": "https://localhost:8080/"
        },
        "id": "wAdILT7OIH7o",
        "outputId": "85fec765-9736-4cab-f5d4-33beb33427b4"
      },
      "execution_count": null,
      "outputs": [
        {
          "output_type": "stream",
          "name": "stdout",
          "text": [
            "[1, 2, 4, 5]\n"
          ]
        }
      ]
    },
    {
      "cell_type": "code",
      "source": [
        "# 9 -Write a code to access the second element in the list ['a', 'b', 'c', 'd']\n",
        "\n",
        "list = ['a', 'b', 'c', 'd']\n",
        "print(list[1])"
      ],
      "metadata": {
        "colab": {
          "base_uri": "https://localhost:8080/"
        },
        "id": "FKJFU5i-IaAx",
        "outputId": "0a0954ce-d877-4140-de17-e33784ddae24"
      },
      "execution_count": null,
      "outputs": [
        {
          "output_type": "stream",
          "name": "stdout",
          "text": [
            "b\n"
          ]
        }
      ]
    },
    {
      "cell_type": "code",
      "source": [
        "#10 -Write a code to reverse the list [10, 20, 30, 40, 50]\n",
        "\n",
        "list =[10,20,30,40,50]\n",
        "list.reverse()\n",
        "print(list)"
      ],
      "metadata": {
        "colab": {
          "base_uri": "https://localhost:8080/"
        },
        "id": "AgHOKRu3IzBJ",
        "outputId": "00719b11-36c2-4d91-f3de-e745983d4c26"
      },
      "execution_count": null,
      "outputs": [
        {
          "output_type": "stream",
          "name": "stdout",
          "text": [
            "[50, 40, 30, 20, 10]\n"
          ]
        }
      ]
    },
    {
      "cell_type": "code",
      "source": [
        "# 11-  Write a code to create a tuple with the elements 100, 200, 300 and print it.\n",
        "\n",
        "num = (100,200,300)\n",
        "print(num)"
      ],
      "metadata": {
        "colab": {
          "base_uri": "https://localhost:8080/"
        },
        "id": "MISxATuuJEoP",
        "outputId": "d0ecd502-dcff-412c-bd9f-e39be1253f44"
      },
      "execution_count": null,
      "outputs": [
        {
          "output_type": "stream",
          "name": "stdout",
          "text": [
            "(100, 200, 300)\n"
          ]
        }
      ]
    },
    {
      "cell_type": "code",
      "source": [
        "#12 - Write a code to access the second-to-last element of the tuple ('red', 'green', 'blue', 'yellow').\n",
        "\n",
        "num = (\"red\", \"green\", \"blue\", \"yellow\")\n",
        "print(num[-2])"
      ],
      "metadata": {
        "colab": {
          "base_uri": "https://localhost:8080/"
        },
        "id": "Dzz7cgXuKNIg",
        "outputId": "7ea33e01-2665-473c-bbc7-c325b330d6b1"
      },
      "execution_count": null,
      "outputs": [
        {
          "output_type": "stream",
          "name": "stdout",
          "text": [
            "blue\n"
          ]
        }
      ]
    },
    {
      "cell_type": "code",
      "source": [
        "#13 -  Write a code to find the minimum number in the tuple (10, 20, 5, 15).\n",
        "\n",
        "num = (10,20,5,15)\n",
        "print(min(num))"
      ],
      "metadata": {
        "colab": {
          "base_uri": "https://localhost:8080/"
        },
        "id": "KQ84cGEkK3Pc",
        "outputId": "f7118c31-e12e-4682-ce1d-fed2a46291e7"
      },
      "execution_count": null,
      "outputs": [
        {
          "output_type": "stream",
          "name": "stdout",
          "text": [
            "5\n"
          ]
        }
      ]
    },
    {
      "cell_type": "code",
      "source": [
        "#14 -  Write a code to find the index of the element \"cat\" in the tuple ('dog', 'cat', 'rabbit').\n",
        "\n",
        "tuple = (\"dag\", \"cat\", \"rabbit\")\n",
        "print(\"index of cat :\",tuple.index(\"cat\"))\n"
      ],
      "metadata": {
        "colab": {
          "base_uri": "https://localhost:8080/"
        },
        "id": "0J2keDp8LN5F",
        "outputId": "9f783188-4d1f-4f2d-e20d-ccc20ea6e552"
      },
      "execution_count": null,
      "outputs": [
        {
          "output_type": "stream",
          "name": "stdout",
          "text": [
            "index of cat : 1\n"
          ]
        }
      ]
    },
    {
      "cell_type": "code",
      "source": [
        "# 15 -Write a code to create a tuple containing three different fruits and check if \"kiwi\" is in it.\n",
        "\n",
        "tuple1 = (\"apple\", \"banana\", \"orange\")\n",
        "tuple2 = (\"kiwi\", \"grapes\", \"buleberry\")\n",
        "print(\"kiwi\" in tuple1)\n",
        "print(\"kiwi\" in tuple2)\n",
        "\n",
        "\n"
      ],
      "metadata": {
        "colab": {
          "base_uri": "https://localhost:8080/"
        },
        "id": "VHy5qXXqL6lT",
        "outputId": "50bf8206-6fbf-4c91-e82c-217b50eac438"
      },
      "execution_count": null,
      "outputs": [
        {
          "output_type": "stream",
          "name": "stdout",
          "text": [
            "False\n",
            "True\n"
          ]
        }
      ]
    },
    {
      "cell_type": "code",
      "source": [
        "# 16 - Write a code to create a set with the elements 'a', 'b', 'c' and print it.\n",
        "\n",
        "set = {\"a\", \"b\", \"c\"}\n",
        "print(\"set\",set)"
      ],
      "metadata": {
        "colab": {
          "base_uri": "https://localhost:8080/"
        },
        "id": "kzOu_gpwNG_t",
        "outputId": "306fa6fe-a353-4f27-9604-490b62f474a4"
      },
      "execution_count": null,
      "outputs": [
        {
          "output_type": "stream",
          "name": "stdout",
          "text": [
            "set {'a', 'b', 'c'}\n"
          ]
        }
      ]
    },
    {
      "cell_type": "code",
      "source": [
        "#17 -  Write a code to clear all elements from the set {1, 2, 3, 4, 5}.\n",
        "\n",
        "set = {1,2,3,4,5}\n",
        "set.clear()\n",
        "print(set)"
      ],
      "metadata": {
        "colab": {
          "base_uri": "https://localhost:8080/"
        },
        "id": "bow-BsG1NdKP",
        "outputId": "cb55f70e-6bb9-477a-84e1-3770b2417952"
      },
      "execution_count": null,
      "outputs": [
        {
          "output_type": "stream",
          "name": "stdout",
          "text": [
            "set()\n"
          ]
        }
      ]
    },
    {
      "cell_type": "code",
      "source": [
        "#18 -  Write a code to remove the element 4 from the set {1, 2, 3, 4}.\n",
        "\n",
        "set = {1,2,3,4}\n",
        "set.remove(4)\n",
        "print(\"new set:\" , set)"
      ],
      "metadata": {
        "colab": {
          "base_uri": "https://localhost:8080/"
        },
        "id": "rf9e6ThdQpMz",
        "outputId": "8226aa2b-84b3-45aa-b190-ec67aa342196"
      },
      "execution_count": null,
      "outputs": [
        {
          "output_type": "stream",
          "name": "stdout",
          "text": [
            "new set: {1, 2, 3}\n"
          ]
        }
      ]
    },
    {
      "cell_type": "code",
      "source": [
        "# 19 - Write a code to find the union of two sets {1, 2, 3} and {3, 4, 5}\n",
        "\n",
        "set1 = {1,2,3}\n",
        "set2 = {3,4,5}\n",
        "print(\"union of set:\" ,set1.union(set2))"
      ],
      "metadata": {
        "colab": {
          "base_uri": "https://localhost:8080/"
        },
        "id": "HlrSae0eR_b6",
        "outputId": "896079b4-1e91-4265-ab20-af2674eb61e0"
      },
      "execution_count": null,
      "outputs": [
        {
          "output_type": "stream",
          "name": "stdout",
          "text": [
            "union of set: {1, 2, 3, 4, 5}\n"
          ]
        }
      ]
    },
    {
      "cell_type": "code",
      "source": [
        "#20 -. Write a code to find the intersection of two sets {1, 2, 3} and {2, 3, 4}\n",
        "\n",
        "set1 ={1,2,3}\n",
        "set2 ={2,3,4}\n",
        "print(\"Intersection of set: \" , set1.intersection(set2))"
      ],
      "metadata": {
        "colab": {
          "base_uri": "https://localhost:8080/"
        },
        "id": "UTfwmdNNfXCp",
        "outputId": "f78c46e9-a9a5-454b-b005-7a06e99722da"
      },
      "execution_count": null,
      "outputs": [
        {
          "output_type": "stream",
          "name": "stdout",
          "text": [
            "Intersection of set:  {2, 3}\n"
          ]
        }
      ]
    },
    {
      "cell_type": "code",
      "source": [
        "# 21 - Write a code to create a dictionary with the keys \"name\", \"age\", and \"city\", and print it.\n",
        "\n",
        "dict = {\"name\": \"vishakha\", \"age\": 29, \"city\": \"satna\"}\n",
        "print(\"Dictionary : \", dict)"
      ],
      "metadata": {
        "colab": {
          "base_uri": "https://localhost:8080/"
        },
        "id": "GpnIRiqKfxqy",
        "outputId": "366cde33-443d-4480-e14b-6167c03951fd"
      },
      "execution_count": null,
      "outputs": [
        {
          "output_type": "stream",
          "name": "stdout",
          "text": [
            "Dictionary:  {'name': 'vishakha', 'age': 29, 'city': 'satna'}\n"
          ]
        }
      ]
    },
    {
      "cell_type": "code",
      "source": [
        "#22 - Write a code to add a new key-value pair \"country\": \"USA\" to the dictionary {'name': 'John', 'age': 25}\n",
        "\n",
        "dict = {\"name\": \"Joha\", \"age\": 25}\n",
        "dict[\"country\"] = \"USA\"\n",
        "print(dict)\n"
      ],
      "metadata": {
        "colab": {
          "base_uri": "https://localhost:8080/"
        },
        "id": "B2HQi07cgcOE",
        "outputId": "ee16c7b4-6edb-44aa-d8c5-530366e81a90"
      },
      "execution_count": null,
      "outputs": [
        {
          "output_type": "stream",
          "name": "stdout",
          "text": [
            "{'name': 'Joha', 'age': 25, 'country': 'USA'}\n"
          ]
        }
      ]
    },
    {
      "cell_type": "code",
      "source": [
        "#23 -Write a code to access the value associated with the key \"name\" in the dictionary {'name': 'Alice', 'age': 30}\n",
        "\n",
        "dict ={\"name\": \"Alice\", \"age\": 30}\n",
        "print(dict[\"name\"])"
      ],
      "metadata": {
        "colab": {
          "base_uri": "https://localhost:8080/"
        },
        "id": "EP3RQvl5hucg",
        "outputId": "8808b0c2-4b16-4003-818f-dd32f80789bc"
      },
      "execution_count": null,
      "outputs": [
        {
          "output_type": "stream",
          "name": "stdout",
          "text": [
            "Alice\n"
          ]
        }
      ]
    },
    {
      "cell_type": "code",
      "source": [
        "#24 - Write a code to remove the key \"age\" from the dictionary {'name': 'Bob', 'age': 22, 'city': 'New York'}.\n",
        "\n",
        "dict = {\"name\": \"Bob\", \"age\": 22, \"city\": \"New york\"}\n",
        "dict.pop(\"age\")\n",
        "print(\"new dict: \", dict)\n"
      ],
      "metadata": {
        "colab": {
          "base_uri": "https://localhost:8080/"
        },
        "id": "89EvO_8siOOk",
        "outputId": "bb677a47-7e47-434c-88c9-d97260835006"
      },
      "execution_count": null,
      "outputs": [
        {
          "output_type": "stream",
          "name": "stdout",
          "text": [
            "new dict:  {'name': 'Bob', 'city': 'New york'}\n"
          ]
        }
      ]
    },
    {
      "cell_type": "code",
      "source": [
        "#25 - Write a code to check if the key \"city\" exists in the dictionary {'name': 'Alice', 'city': 'Paris'}.\n",
        "\n",
        "my_dict = {\"name\": \"Alice\", \"city\": \"Paris\"}\n",
        "if \"city\" in my_dict:\n",
        "    print(\"city exists in the dictionary.\")\n",
        "else:\n",
        "  print(\"not found\")"
      ],
      "metadata": {
        "colab": {
          "base_uri": "https://localhost:8080/"
        },
        "id": "eXbI-gF4jH-A",
        "outputId": "6214f5b0-945f-4a4b-fa96-cf3255095a04"
      },
      "execution_count": null,
      "outputs": [
        {
          "output_type": "stream",
          "name": "stdout",
          "text": [
            "city exists in the dictionary.\n"
          ]
        }
      ]
    },
    {
      "cell_type": "code",
      "source": [
        "#26 -  Write a code to create a list, a tuple, and a dictionary, and print them all.\n",
        "\n",
        "List =[12,34,54,56]\n",
        "tuple =(97,56,78)\n",
        "dict = {\"name\": \"vishakha\", \"city\": \"satna\"}\n",
        "\n",
        "print(\"My list :\", list)\n",
        "print(\"My tuple :\", tuple)\n",
        "print(\"My dictionary :\", dict)"
      ],
      "metadata": {
        "colab": {
          "base_uri": "https://localhost:8080/"
        },
        "id": "fViqMGoqkEkw",
        "outputId": "57c2e8db-0e0e-4ff3-feec-f5c2eb2299dd"
      },
      "execution_count": null,
      "outputs": [
        {
          "output_type": "stream",
          "name": "stdout",
          "text": [
            "My list : [50, 40, 30, 20, 10]\n",
            "My tuple : (97, 56, 78)\n",
            "My dictionary : {'name': 'vishakha', 'city': 'satna'}\n"
          ]
        }
      ]
    },
    {
      "cell_type": "code",
      "source": [
        "#27 - Write a code to create a list of 5 random numbers between 1 and 100, sort it in ascending order, and print the result(replaced).\n",
        "from random import sample as random_sample\n",
        "\n",
        "random_num = random_sample(range(1,101),5)\n",
        "print(\"List before sorting :\", random_num)\n",
        "random_num.sort()\n",
        "print(\"List after sorting :\", random_num)"
      ],
      "metadata": {
        "colab": {
          "base_uri": "https://localhost:8080/"
        },
        "id": "LdBIJ1eLlBB3",
        "outputId": "762df550-67e4-435b-c6b4-01f948112a5f"
      },
      "execution_count": null,
      "outputs": [
        {
          "output_type": "stream",
          "name": "stdout",
          "text": [
            "List before sorting : [89, 87, 65, 21, 47]\n",
            "List after sorting : [21, 47, 65, 87, 89]\n"
          ]
        }
      ]
    },
    {
      "cell_type": "code",
      "source": [
        "#28 -  Write a code to create a list with strings and print the element at the third index.\n",
        "\n",
        "My_list = [\"vish\", \"ram\", \"rakhi\", \"komal\"]\n",
        "print(\" Element of index 3 :\" ,My_list[3])\n"
      ],
      "metadata": {
        "colab": {
          "base_uri": "https://localhost:8080/"
        },
        "id": "qe2TfXE-mcK5",
        "outputId": "c4148618-532f-4e11-a414-48e806576853"
      },
      "execution_count": null,
      "outputs": [
        {
          "output_type": "stream",
          "name": "stdout",
          "text": [
            " Element of index 3 : komal\n"
          ]
        }
      ]
    },
    {
      "cell_type": "code",
      "source": [
        "# 29 -Write a code to combine two dictionaries into one and print the result.\n",
        "\n",
        "dict1 = {\"name\": \"vishakha\" ,\"age\": 28}\n",
        "dict2 = {\"city\": \"satna\" , \"gender\": \"female\"}\n",
        "dict1.update(dict2)\n",
        "print(\"Combine dictionaries :\" , dict1)"
      ],
      "metadata": {
        "colab": {
          "base_uri": "https://localhost:8080/"
        },
        "id": "iozzqdsfnMPy",
        "outputId": "8a0b397a-4591-4d19-88eb-a38875ed0779"
      },
      "execution_count": null,
      "outputs": [
        {
          "output_type": "stream",
          "name": "stdout",
          "text": [
            "Combine dictionaries : {'name': 'vishakha', 'age': 28, 'city': 'satna', 'gender': 'female'}\n"
          ]
        }
      ]
    },
    {
      "cell_type": "code",
      "source": [
        "# 30 - Write a code to convert a list of strings into a set.\n",
        "List = [\"apple\", \"komal\", \"apple\", \"raja\", \"rakhi\"]\n",
        "my_set = set(List)\n",
        "print(\"set: \", my_set)"
      ],
      "metadata": {
        "id": "RLewJO13p50k",
        "colab": {
          "base_uri": "https://localhost:8080/"
        },
        "outputId": "96c8864b-e969-4c02-8d47-2058b441f7a5"
      },
      "execution_count": 1,
      "outputs": [
        {
          "output_type": "stream",
          "name": "stdout",
          "text": [
            "set:  {'komal', 'rakhi', 'apple', 'raja'}\n"
          ]
        }
      ]
    },
    {
      "cell_type": "code",
      "source": [],
      "metadata": {
        "id": "eUKy60HDrqp2"
      },
      "execution_count": null,
      "outputs": []
    }
  ]
}